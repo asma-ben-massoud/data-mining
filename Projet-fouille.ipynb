{
 "cells": [
  {
   "cell_type": "markdown",
   "id": "ff49deff",
   "metadata": {},
   "source": [
    "NB:Le dataset avec lequel on a travaillé est trés volumineux, c'est pourquoi l'éxcution de certaines instructions peut prendre plusieurs minutes."
   ]
  },
  {
   "cell_type": "markdown",
   "id": "0c22505d",
   "metadata": {},
   "source": [
    "## 1/Importation  des données"
   ]
  },
  {
   "cell_type": "code",
   "execution_count": 1,
   "id": "795d4e74",
   "metadata": {},
   "outputs": [],
   "source": [
    "import pandas as pd"
   ]
  },
  {
   "cell_type": "code",
   "execution_count": 2,
   "id": "7fec86f2",
   "metadata": {},
   "outputs": [],
   "source": [
    "order_products_prior = pd.read_csv(\"order_products__prior.csv\")\n",
    "orders = pd.read_csv(\"orders.csv\")\n",
    "order_products_train = pd.read_csv(\"order_products__train.csv\")\n",
    "products = pd.read_csv(\"products.csv\")\n",
    "aisles = pd.read_csv(\"aisles.csv\")\n",
    "departments = pd.read_csv(\"departments.csv\")\n"
   ]
  },
  {
   "cell_type": "markdown",
   "id": "a76216b4",
   "metadata": {},
   "source": [
    "## 2/Exploration des données"
   ]
  },
  {
   "cell_type": "markdown",
   "id": "c7ad420d",
   "metadata": {},
   "source": [
    "#### a/ Valeurs manquantes: (Data Cleaning)"
   ]
  },
  {
   "cell_type": "code",
   "execution_count": 4,
   "id": "521f0f4a",
   "metadata": {
    "scrolled": true
   },
   "outputs": [
    {
     "data": {
      "text/plain": [
       "order_id             0\n",
       "product_id           0\n",
       "add_to_cart_order    0\n",
       "reordered            0\n",
       "dtype: int64"
      ]
     },
     "execution_count": 4,
     "metadata": {},
     "output_type": "execute_result"
    }
   ],
   "source": [
    " order_products_prior.isnull().sum()"
   ]
  },
  {
   "cell_type": "code",
   "execution_count": 5,
   "id": "fe90a1f7",
   "metadata": {
    "scrolled": true
   },
   "outputs": [
    {
     "data": {
      "text/plain": [
       "order_id             0\n",
       "product_id           0\n",
       "add_to_cart_order    0\n",
       "reordered            0\n",
       "dtype: int64"
      ]
     },
     "execution_count": 5,
     "metadata": {},
     "output_type": "execute_result"
    }
   ],
   "source": [
    "order_products_train.isnull().sum()"
   ]
  },
  {
   "cell_type": "code",
   "execution_count": 6,
   "id": "547a4b29",
   "metadata": {},
   "outputs": [
    {
     "data": {
      "text/plain": [
       "product_id       0\n",
       "product_name     0\n",
       "aisle_id         0\n",
       "department_id    0\n",
       "dtype: int64"
      ]
     },
     "execution_count": 6,
     "metadata": {},
     "output_type": "execute_result"
    }
   ],
   "source": [
    "products.isnull().sum()"
   ]
  },
  {
   "cell_type": "code",
   "execution_count": 7,
   "id": "09576371",
   "metadata": {},
   "outputs": [
    {
     "data": {
      "text/plain": [
       "aisle_id    0\n",
       "aisle       0\n",
       "dtype: int64"
      ]
     },
     "execution_count": 7,
     "metadata": {},
     "output_type": "execute_result"
    }
   ],
   "source": [
    "aisles.isnull().sum()"
   ]
  },
  {
   "cell_type": "code",
   "execution_count": 8,
   "id": "9d925322",
   "metadata": {},
   "outputs": [
    {
     "data": {
      "text/plain": [
       "department_id    0\n",
       "department       0\n",
       "dtype: int64"
      ]
     },
     "execution_count": 8,
     "metadata": {},
     "output_type": "execute_result"
    }
   ],
   "source": [
    "departments.isnull().sum()"
   ]
  },
  {
   "cell_type": "code",
   "execution_count": 9,
   "id": "830c0d50",
   "metadata": {},
   "outputs": [
    {
     "data": {
      "text/plain": [
       "order_id                       0\n",
       "user_id                        0\n",
       "eval_set                       0\n",
       "order_number                   0\n",
       "order_dow                      0\n",
       "order_hour_of_day              0\n",
       "days_since_prior_order    206209\n",
       "dtype: int64"
      ]
     },
     "execution_count": 9,
     "metadata": {},
     "output_type": "execute_result"
    }
   ],
   "source": [
    "orders.isnull().sum()"
   ]
  },
  {
   "cell_type": "markdown",
   "id": "774964c6",
   "metadata": {},
   "source": [
    "D'apres les résultats trouvés seulement la colonne \"days_since_prior_order\" du dataset ORDERS contient des valeurs nulles."
   ]
  },
  {
   "cell_type": "markdown",
   "id": "a2cef4ff",
   "metadata": {},
   "source": [
    " "
   ]
  },
  {
   "cell_type": "code",
   "execution_count": 10,
   "id": "d83e1490",
   "metadata": {},
   "outputs": [
    {
     "data": {
      "text/html": [
       "<div>\n",
       "<style scoped>\n",
       "    .dataframe tbody tr th:only-of-type {\n",
       "        vertical-align: middle;\n",
       "    }\n",
       "\n",
       "    .dataframe tbody tr th {\n",
       "        vertical-align: top;\n",
       "    }\n",
       "\n",
       "    .dataframe thead th {\n",
       "        text-align: right;\n",
       "    }\n",
       "</style>\n",
       "<table border=\"1\" class=\"dataframe\">\n",
       "  <thead>\n",
       "    <tr style=\"text-align: right;\">\n",
       "      <th></th>\n",
       "      <th>order_id</th>\n",
       "      <th>user_id</th>\n",
       "      <th>eval_set</th>\n",
       "      <th>order_number</th>\n",
       "      <th>order_dow</th>\n",
       "      <th>order_hour_of_day</th>\n",
       "      <th>days_since_prior_order</th>\n",
       "    </tr>\n",
       "  </thead>\n",
       "  <tbody>\n",
       "    <tr>\n",
       "      <th>0</th>\n",
       "      <td>2539329</td>\n",
       "      <td>1</td>\n",
       "      <td>prior</td>\n",
       "      <td>1</td>\n",
       "      <td>2</td>\n",
       "      <td>8</td>\n",
       "      <td>NaN</td>\n",
       "    </tr>\n",
       "    <tr>\n",
       "      <th>11</th>\n",
       "      <td>2168274</td>\n",
       "      <td>2</td>\n",
       "      <td>prior</td>\n",
       "      <td>1</td>\n",
       "      <td>2</td>\n",
       "      <td>11</td>\n",
       "      <td>NaN</td>\n",
       "    </tr>\n",
       "    <tr>\n",
       "      <th>26</th>\n",
       "      <td>1374495</td>\n",
       "      <td>3</td>\n",
       "      <td>prior</td>\n",
       "      <td>1</td>\n",
       "      <td>1</td>\n",
       "      <td>14</td>\n",
       "      <td>NaN</td>\n",
       "    </tr>\n",
       "    <tr>\n",
       "      <th>39</th>\n",
       "      <td>3343014</td>\n",
       "      <td>4</td>\n",
       "      <td>prior</td>\n",
       "      <td>1</td>\n",
       "      <td>6</td>\n",
       "      <td>11</td>\n",
       "      <td>NaN</td>\n",
       "    </tr>\n",
       "    <tr>\n",
       "      <th>45</th>\n",
       "      <td>2717275</td>\n",
       "      <td>5</td>\n",
       "      <td>prior</td>\n",
       "      <td>1</td>\n",
       "      <td>3</td>\n",
       "      <td>12</td>\n",
       "      <td>NaN</td>\n",
       "    </tr>\n",
       "    <tr>\n",
       "      <th>...</th>\n",
       "      <td>...</td>\n",
       "      <td>...</td>\n",
       "      <td>...</td>\n",
       "      <td>...</td>\n",
       "      <td>...</td>\n",
       "      <td>...</td>\n",
       "      <td>...</td>\n",
       "    </tr>\n",
       "    <tr>\n",
       "      <th>3420930</th>\n",
       "      <td>969311</td>\n",
       "      <td>206205</td>\n",
       "      <td>prior</td>\n",
       "      <td>1</td>\n",
       "      <td>4</td>\n",
       "      <td>12</td>\n",
       "      <td>NaN</td>\n",
       "    </tr>\n",
       "    <tr>\n",
       "      <th>3420934</th>\n",
       "      <td>3189322</td>\n",
       "      <td>206206</td>\n",
       "      <td>prior</td>\n",
       "      <td>1</td>\n",
       "      <td>3</td>\n",
       "      <td>18</td>\n",
       "      <td>NaN</td>\n",
       "    </tr>\n",
       "    <tr>\n",
       "      <th>3421002</th>\n",
       "      <td>2166133</td>\n",
       "      <td>206207</td>\n",
       "      <td>prior</td>\n",
       "      <td>1</td>\n",
       "      <td>6</td>\n",
       "      <td>19</td>\n",
       "      <td>NaN</td>\n",
       "    </tr>\n",
       "    <tr>\n",
       "      <th>3421019</th>\n",
       "      <td>2227043</td>\n",
       "      <td>206208</td>\n",
       "      <td>prior</td>\n",
       "      <td>1</td>\n",
       "      <td>1</td>\n",
       "      <td>15</td>\n",
       "      <td>NaN</td>\n",
       "    </tr>\n",
       "    <tr>\n",
       "      <th>3421069</th>\n",
       "      <td>3154581</td>\n",
       "      <td>206209</td>\n",
       "      <td>prior</td>\n",
       "      <td>1</td>\n",
       "      <td>3</td>\n",
       "      <td>11</td>\n",
       "      <td>NaN</td>\n",
       "    </tr>\n",
       "  </tbody>\n",
       "</table>\n",
       "<p>206209 rows × 7 columns</p>\n",
       "</div>"
      ],
      "text/plain": [
       "         order_id  user_id eval_set  order_number  order_dow  \\\n",
       "0         2539329        1    prior             1          2   \n",
       "11        2168274        2    prior             1          2   \n",
       "26        1374495        3    prior             1          1   \n",
       "39        3343014        4    prior             1          6   \n",
       "45        2717275        5    prior             1          3   \n",
       "...           ...      ...      ...           ...        ...   \n",
       "3420930    969311   206205    prior             1          4   \n",
       "3420934   3189322   206206    prior             1          3   \n",
       "3421002   2166133   206207    prior             1          6   \n",
       "3421019   2227043   206208    prior             1          1   \n",
       "3421069   3154581   206209    prior             1          3   \n",
       "\n",
       "         order_hour_of_day  days_since_prior_order  \n",
       "0                        8                     NaN  \n",
       "11                      11                     NaN  \n",
       "26                      14                     NaN  \n",
       "39                      11                     NaN  \n",
       "45                      12                     NaN  \n",
       "...                    ...                     ...  \n",
       "3420930                 12                     NaN  \n",
       "3420934                 18                     NaN  \n",
       "3421002                 19                     NaN  \n",
       "3421019                 15                     NaN  \n",
       "3421069                 11                     NaN  \n",
       "\n",
       "[206209 rows x 7 columns]"
      ]
     },
     "execution_count": 10,
     "metadata": {},
     "output_type": "execute_result"
    }
   ],
   "source": [
    "orders[orders[\"days_since_prior_order\"].isnull()]"
   ]
  },
  {
   "cell_type": "markdown",
   "id": "59f5b0bb",
   "metadata": {},
   "source": [
    "D'aprés le résultat ci-dessus on constate que la colonne \"days_since_prior_order\" est nulle seulement quand \"order_number\" == 1 \n",
    "ce qui est logique car avant la premiére commande on n'a aucune commande"
   ]
  },
  {
   "cell_type": "markdown",
   "id": "dd4f5fdd",
   "metadata": {},
   "source": [
    "Pour confirmer ce qu'on a constaté, on va vérifier si les valeurs nulles dans \"orders.csv\" sont seulement présentes dans les premiers commandes de chaque utilisateur:"
   ]
  },
  {
   "cell_type": "code",
   "execution_count": 11,
   "id": "92966a88",
   "metadata": {},
   "outputs": [
    {
     "name": "stdout",
     "output_type": "stream",
     "text": [
      "order_id                       0\n",
      "user_id                        0\n",
      "eval_set                       0\n",
      "order_number                   0\n",
      "order_dow                      0\n",
      "order_hour_of_day              0\n",
      "days_since_prior_order    206209\n",
      "dtype: int64\n"
     ]
    }
   ],
   "source": [
    "print(orders[orders[\"order_number\"]==1].isnull().sum()) #Nan valeurs où \"order_number\"==1 "
   ]
  },
  {
   "cell_type": "markdown",
   "id": "b3a999e3",
   "metadata": {},
   "source": [
    "Donc on va remplacer ces valeurs nulles par des zéros car avant la premiére commande on n'a aucune commande précédente donc \n",
    "\"days_since_prior_order\" est logiquement égale à 0 :"
   ]
  },
  {
   "cell_type": "code",
   "execution_count": 3,
   "id": "990b56a1",
   "metadata": {},
   "outputs": [],
   "source": [
    "orders=orders.fillna(0)"
   ]
  },
  {
   "cell_type": "code",
   "execution_count": 4,
   "id": "8f637744",
   "metadata": {},
   "outputs": [
    {
     "data": {
      "text/plain": [
       "order_id                  0\n",
       "user_id                   0\n",
       "eval_set                  0\n",
       "order_number              0\n",
       "order_dow                 0\n",
       "order_hour_of_day         0\n",
       "days_since_prior_order    0\n",
       "dtype: int64"
      ]
     },
     "execution_count": 4,
     "metadata": {},
     "output_type": "execute_result"
    }
   ],
   "source": [
    "orders.isnull().sum()"
   ]
  },
  {
   "cell_type": "code",
   "execution_count": 14,
   "id": "ea048e21",
   "metadata": {
    "scrolled": false
   },
   "outputs": [
    {
     "name": "stdout",
     "output_type": "stream",
     "text": [
      "           order_id       user_id  order_number     order_dow  \\\n",
      "count  3.421083e+06  3.421083e+06  3.421083e+06  3.421083e+06   \n",
      "mean   1.710542e+06  1.029782e+05  1.715486e+01  2.776219e+00   \n",
      "std    9.875817e+05  5.953372e+04  1.773316e+01  2.046829e+00   \n",
      "min    1.000000e+00  1.000000e+00  1.000000e+00  0.000000e+00   \n",
      "25%    8.552715e+05  5.139400e+04  5.000000e+00  1.000000e+00   \n",
      "50%    1.710542e+06  1.026890e+05  1.100000e+01  3.000000e+00   \n",
      "75%    2.565812e+06  1.543850e+05  2.300000e+01  5.000000e+00   \n",
      "max    3.421083e+06  2.062090e+05  1.000000e+02  6.000000e+00   \n",
      "\n",
      "       order_hour_of_day  days_since_prior_order  \n",
      "count       3.421083e+06            3.421083e+06  \n",
      "mean        1.345202e+01            1.044488e+01  \n",
      "std         4.226088e+00            9.308727e+00  \n",
      "min         0.000000e+00            0.000000e+00  \n",
      "25%         1.000000e+01            4.000000e+00  \n",
      "50%         1.300000e+01            7.000000e+00  \n",
      "75%         1.600000e+01            1.500000e+01  \n",
      "max         2.300000e+01            3.000000e+01  \n"
     ]
    }
   ],
   "source": [
    "# Statistiques de base pour le dataframe orders \n",
    "print(orders.describe())"
   ]
  },
  {
   "cell_type": "code",
   "execution_count": 15,
   "id": "909e52a4",
   "metadata": {},
   "outputs": [
    {
     "name": "stdout",
     "output_type": "stream",
     "text": [
      "<class 'pandas.core.frame.DataFrame'>\n",
      "RangeIndex: 3421083 entries, 0 to 3421082\n",
      "Data columns (total 7 columns):\n",
      " #   Column                  Dtype  \n",
      "---  ------                  -----  \n",
      " 0   order_id                int64  \n",
      " 1   user_id                 int64  \n",
      " 2   eval_set                object \n",
      " 3   order_number            int64  \n",
      " 4   order_dow               int64  \n",
      " 5   order_hour_of_day       int64  \n",
      " 6   days_since_prior_order  float64\n",
      "dtypes: float64(1), int64(5), object(1)\n",
      "memory usage: 182.7+ MB\n"
     ]
    }
   ],
   "source": [
    "orders.info()"
   ]
  },
  {
   "cell_type": "markdown",
   "id": "a0503d04",
   "metadata": {},
   "source": [
    "#### b/ Fusionner les données :"
   ]
  },
  {
   "cell_type": "code",
   "execution_count": 5,
   "id": "5b4fa515",
   "metadata": {},
   "outputs": [],
   "source": [
    "data=pd.concat([order_products_prior,order_products_train]).sort_values(by=['order_id'])"
   ]
  },
  {
   "cell_type": "code",
   "execution_count": 6,
   "id": "8fd85557",
   "metadata": {
    "scrolled": true
   },
   "outputs": [],
   "source": [
    "data = pd.merge(left = data, right = orders,\n",
    "                             left_on='order_id', right_on='order_id').sort_values(by=['order_id']).reset_index(drop=True)"
   ]
  },
  {
   "cell_type": "code",
   "execution_count": 7,
   "id": "ab3ad2b5",
   "metadata": {},
   "outputs": [],
   "source": [
    "data = pd.merge(left = data, right = products,\n",
    "                             left_on='product_id', right_on='product_id').sort_values(by=['order_id']).reset_index(drop=True)"
   ]
  },
  {
   "cell_type": "code",
   "execution_count": 8,
   "id": "a882b2da",
   "metadata": {},
   "outputs": [],
   "source": [
    "data = pd.merge(left = data, right = aisles,\n",
    "                             left_on='aisle_id', right_on='aisle_id').sort_values(by=['order_id']).reset_index(drop=True)\n"
   ]
  },
  {
   "cell_type": "code",
   "execution_count": 9,
   "id": "578f723b",
   "metadata": {},
   "outputs": [],
   "source": [
    "data = pd.merge(left = data, right = departments,\n",
    "                             left_on='department_id', right_on='department_id').sort_values(by=['order_id']).reset_index(drop=True)\n"
   ]
  },
  {
   "cell_type": "code",
   "execution_count": 10,
   "id": "a0820f99",
   "metadata": {},
   "outputs": [],
   "source": [
    "col_order = ['user_id','order_id','product_id','aisle_id','department_id','add_to_cart_order',\n",
    " 'reordered','product_name','aisle','department','eval_set','order_number','order_dow','order_hour_of_day',\n",
    " 'days_since_prior_order']"
   ]
  },
  {
   "cell_type": "code",
   "execution_count": 11,
   "id": "e3081c79",
   "metadata": {
    "scrolled": true
   },
   "outputs": [
    {
     "data": {
      "text/html": [
       "<div>\n",
       "<style scoped>\n",
       "    .dataframe tbody tr th:only-of-type {\n",
       "        vertical-align: middle;\n",
       "    }\n",
       "\n",
       "    .dataframe tbody tr th {\n",
       "        vertical-align: top;\n",
       "    }\n",
       "\n",
       "    .dataframe thead th {\n",
       "        text-align: right;\n",
       "    }\n",
       "</style>\n",
       "<table border=\"1\" class=\"dataframe\">\n",
       "  <thead>\n",
       "    <tr style=\"text-align: right;\">\n",
       "      <th></th>\n",
       "      <th>user_id</th>\n",
       "      <th>order_id</th>\n",
       "      <th>product_id</th>\n",
       "      <th>aisle_id</th>\n",
       "      <th>department_id</th>\n",
       "      <th>add_to_cart_order</th>\n",
       "      <th>reordered</th>\n",
       "      <th>product_name</th>\n",
       "      <th>aisle</th>\n",
       "      <th>department</th>\n",
       "      <th>eval_set</th>\n",
       "      <th>order_number</th>\n",
       "      <th>order_dow</th>\n",
       "      <th>order_hour_of_day</th>\n",
       "      <th>days_since_prior_order</th>\n",
       "    </tr>\n",
       "  </thead>\n",
       "  <tbody>\n",
       "    <tr>\n",
       "      <th>0</th>\n",
       "      <td>112108</td>\n",
       "      <td>1</td>\n",
       "      <td>49302</td>\n",
       "      <td>120</td>\n",
       "      <td>16</td>\n",
       "      <td>1</td>\n",
       "      <td>1</td>\n",
       "      <td>Bulgarian Yogurt</td>\n",
       "      <td>yogurt</td>\n",
       "      <td>dairy eggs</td>\n",
       "      <td>train</td>\n",
       "      <td>4</td>\n",
       "      <td>4</td>\n",
       "      <td>10</td>\n",
       "      <td>9.0</td>\n",
       "    </tr>\n",
       "    <tr>\n",
       "      <th>1</th>\n",
       "      <td>112108</td>\n",
       "      <td>1</td>\n",
       "      <td>13176</td>\n",
       "      <td>24</td>\n",
       "      <td>4</td>\n",
       "      <td>6</td>\n",
       "      <td>0</td>\n",
       "      <td>Bag of Organic Bananas</td>\n",
       "      <td>fresh fruits</td>\n",
       "      <td>produce</td>\n",
       "      <td>train</td>\n",
       "      <td>4</td>\n",
       "      <td>4</td>\n",
       "      <td>10</td>\n",
       "      <td>9.0</td>\n",
       "    </tr>\n",
       "    <tr>\n",
       "      <th>2</th>\n",
       "      <td>112108</td>\n",
       "      <td>1</td>\n",
       "      <td>47209</td>\n",
       "      <td>24</td>\n",
       "      <td>4</td>\n",
       "      <td>7</td>\n",
       "      <td>0</td>\n",
       "      <td>Organic Hass Avocado</td>\n",
       "      <td>fresh fruits</td>\n",
       "      <td>produce</td>\n",
       "      <td>train</td>\n",
       "      <td>4</td>\n",
       "      <td>4</td>\n",
       "      <td>10</td>\n",
       "      <td>9.0</td>\n",
       "    </tr>\n",
       "    <tr>\n",
       "      <th>3</th>\n",
       "      <td>112108</td>\n",
       "      <td>1</td>\n",
       "      <td>43633</td>\n",
       "      <td>95</td>\n",
       "      <td>15</td>\n",
       "      <td>5</td>\n",
       "      <td>1</td>\n",
       "      <td>Lightly Smoked Sardines in Olive Oil</td>\n",
       "      <td>canned meat seafood</td>\n",
       "      <td>canned goods</td>\n",
       "      <td>train</td>\n",
       "      <td>4</td>\n",
       "      <td>4</td>\n",
       "      <td>10</td>\n",
       "      <td>9.0</td>\n",
       "    </tr>\n",
       "    <tr>\n",
       "      <th>4</th>\n",
       "      <td>112108</td>\n",
       "      <td>1</td>\n",
       "      <td>49683</td>\n",
       "      <td>83</td>\n",
       "      <td>4</td>\n",
       "      <td>4</td>\n",
       "      <td>0</td>\n",
       "      <td>Cucumber Kirby</td>\n",
       "      <td>fresh vegetables</td>\n",
       "      <td>produce</td>\n",
       "      <td>train</td>\n",
       "      <td>4</td>\n",
       "      <td>4</td>\n",
       "      <td>10</td>\n",
       "      <td>9.0</td>\n",
       "    </tr>\n",
       "    <tr>\n",
       "      <th>...</th>\n",
       "      <td>...</td>\n",
       "      <td>...</td>\n",
       "      <td>...</td>\n",
       "      <td>...</td>\n",
       "      <td>...</td>\n",
       "      <td>...</td>\n",
       "      <td>...</td>\n",
       "      <td>...</td>\n",
       "      <td>...</td>\n",
       "      <td>...</td>\n",
       "      <td>...</td>\n",
       "      <td>...</td>\n",
       "      <td>...</td>\n",
       "      <td>...</td>\n",
       "      <td>...</td>\n",
       "    </tr>\n",
       "    <tr>\n",
       "      <th>33819101</th>\n",
       "      <td>25247</td>\n",
       "      <td>3421083</td>\n",
       "      <td>11352</td>\n",
       "      <td>78</td>\n",
       "      <td>19</td>\n",
       "      <td>7</td>\n",
       "      <td>0</td>\n",
       "      <td>Organic Mini Sandwich Crackers Peanut Butter</td>\n",
       "      <td>crackers</td>\n",
       "      <td>snacks</td>\n",
       "      <td>prior</td>\n",
       "      <td>24</td>\n",
       "      <td>2</td>\n",
       "      <td>6</td>\n",
       "      <td>21.0</td>\n",
       "    </tr>\n",
       "    <tr>\n",
       "      <th>33819102</th>\n",
       "      <td>25247</td>\n",
       "      <td>3421083</td>\n",
       "      <td>5020</td>\n",
       "      <td>3</td>\n",
       "      <td>19</td>\n",
       "      <td>10</td>\n",
       "      <td>1</td>\n",
       "      <td>Organic  Sweet &amp; Salty Peanut Pretzel Granola ...</td>\n",
       "      <td>energy granola bars</td>\n",
       "      <td>snacks</td>\n",
       "      <td>prior</td>\n",
       "      <td>24</td>\n",
       "      <td>2</td>\n",
       "      <td>6</td>\n",
       "      <td>21.0</td>\n",
       "    </tr>\n",
       "    <tr>\n",
       "      <th>33819103</th>\n",
       "      <td>25247</td>\n",
       "      <td>3421083</td>\n",
       "      <td>24852</td>\n",
       "      <td>24</td>\n",
       "      <td>4</td>\n",
       "      <td>9</td>\n",
       "      <td>1</td>\n",
       "      <td>Banana</td>\n",
       "      <td>fresh fruits</td>\n",
       "      <td>produce</td>\n",
       "      <td>prior</td>\n",
       "      <td>24</td>\n",
       "      <td>2</td>\n",
       "      <td>6</td>\n",
       "      <td>21.0</td>\n",
       "    </tr>\n",
       "    <tr>\n",
       "      <th>33819104</th>\n",
       "      <td>25247</td>\n",
       "      <td>3421083</td>\n",
       "      <td>21162</td>\n",
       "      <td>92</td>\n",
       "      <td>18</td>\n",
       "      <td>3</td>\n",
       "      <td>0</td>\n",
       "      <td>Organic Mixed Berry Yogurt &amp; Fruit Snack</td>\n",
       "      <td>baby food formula</td>\n",
       "      <td>babies</td>\n",
       "      <td>prior</td>\n",
       "      <td>24</td>\n",
       "      <td>2</td>\n",
       "      <td>6</td>\n",
       "      <td>21.0</td>\n",
       "    </tr>\n",
       "    <tr>\n",
       "      <th>33819105</th>\n",
       "      <td>25247</td>\n",
       "      <td>3421083</td>\n",
       "      <td>4600</td>\n",
       "      <td>52</td>\n",
       "      <td>1</td>\n",
       "      <td>8</td>\n",
       "      <td>0</td>\n",
       "      <td>All Natural French Toast Sticks</td>\n",
       "      <td>frozen breakfast</td>\n",
       "      <td>frozen</td>\n",
       "      <td>prior</td>\n",
       "      <td>24</td>\n",
       "      <td>2</td>\n",
       "      <td>6</td>\n",
       "      <td>21.0</td>\n",
       "    </tr>\n",
       "  </tbody>\n",
       "</table>\n",
       "<p>33819106 rows × 15 columns</p>\n",
       "</div>"
      ],
      "text/plain": [
       "          user_id  order_id  product_id  aisle_id  department_id  \\\n",
       "0          112108         1       49302       120             16   \n",
       "1          112108         1       13176        24              4   \n",
       "2          112108         1       47209        24              4   \n",
       "3          112108         1       43633        95             15   \n",
       "4          112108         1       49683        83              4   \n",
       "...           ...       ...         ...       ...            ...   \n",
       "33819101    25247   3421083       11352        78             19   \n",
       "33819102    25247   3421083        5020         3             19   \n",
       "33819103    25247   3421083       24852        24              4   \n",
       "33819104    25247   3421083       21162        92             18   \n",
       "33819105    25247   3421083        4600        52              1   \n",
       "\n",
       "          add_to_cart_order  reordered  \\\n",
       "0                         1          1   \n",
       "1                         6          0   \n",
       "2                         7          0   \n",
       "3                         5          1   \n",
       "4                         4          0   \n",
       "...                     ...        ...   \n",
       "33819101                  7          0   \n",
       "33819102                 10          1   \n",
       "33819103                  9          1   \n",
       "33819104                  3          0   \n",
       "33819105                  8          0   \n",
       "\n",
       "                                               product_name  \\\n",
       "0                                          Bulgarian Yogurt   \n",
       "1                                    Bag of Organic Bananas   \n",
       "2                                      Organic Hass Avocado   \n",
       "3                      Lightly Smoked Sardines in Olive Oil   \n",
       "4                                            Cucumber Kirby   \n",
       "...                                                     ...   \n",
       "33819101       Organic Mini Sandwich Crackers Peanut Butter   \n",
       "33819102  Organic  Sweet & Salty Peanut Pretzel Granola ...   \n",
       "33819103                                             Banana   \n",
       "33819104           Organic Mixed Berry Yogurt & Fruit Snack   \n",
       "33819105                    All Natural French Toast Sticks   \n",
       "\n",
       "                        aisle    department eval_set  order_number  order_dow  \\\n",
       "0                      yogurt    dairy eggs    train             4          4   \n",
       "1                fresh fruits       produce    train             4          4   \n",
       "2                fresh fruits       produce    train             4          4   \n",
       "3         canned meat seafood  canned goods    train             4          4   \n",
       "4            fresh vegetables       produce    train             4          4   \n",
       "...                       ...           ...      ...           ...        ...   \n",
       "33819101             crackers        snacks    prior            24          2   \n",
       "33819102  energy granola bars        snacks    prior            24          2   \n",
       "33819103         fresh fruits       produce    prior            24          2   \n",
       "33819104    baby food formula        babies    prior            24          2   \n",
       "33819105     frozen breakfast        frozen    prior            24          2   \n",
       "\n",
       "          order_hour_of_day  days_since_prior_order  \n",
       "0                        10                     9.0  \n",
       "1                        10                     9.0  \n",
       "2                        10                     9.0  \n",
       "3                        10                     9.0  \n",
       "4                        10                     9.0  \n",
       "...                     ...                     ...  \n",
       "33819101                  6                    21.0  \n",
       "33819102                  6                    21.0  \n",
       "33819103                  6                    21.0  \n",
       "33819104                  6                    21.0  \n",
       "33819105                  6                    21.0  \n",
       "\n",
       "[33819106 rows x 15 columns]"
      ]
     },
     "execution_count": 11,
     "metadata": {},
     "output_type": "execute_result"
    }
   ],
   "source": [
    "data[col_order]"
   ]
  },
  {
   "cell_type": "code",
   "execution_count": 18,
   "id": "55d9c0bb",
   "metadata": {},
   "outputs": [
    {
     "data": {
      "text/plain": [
       "33819106"
      ]
     },
     "execution_count": 18,
     "metadata": {},
     "output_type": "execute_result"
    }
   ],
   "source": [
    "len(data)"
   ]
  },
  {
   "cell_type": "markdown",
   "id": "6756c115",
   "metadata": {},
   "source": [
    "## 3/ Quelques analyses:"
   ]
  },
  {
   "cell_type": "markdown",
   "id": "af423527",
   "metadata": {},
   "source": [
    "#### a/ Distribution de la variable cible (reordered) :"
   ]
  },
  {
   "cell_type": "code",
   "execution_count": 20,
   "id": "636957f9",
   "metadata": {},
   "outputs": [
    {
     "name": "stdout",
     "output_type": "stream",
     "text": [
      "Proportion of reordered products TRAIN SET: 59.86%\n",
      "Proportion of reordered products PRIOR SET: 58.97%\n"
     ]
    }
   ],
   "source": [
    "# Calculate the proportion of reordered products\n",
    "\n",
    "reordered_prop_train = data[data[\"eval_set\"]==\"train\"]['reordered'].mean()\n",
    "\n",
    "print('Proportion of reordered products TRAIN SET: {:.2%}'.format(reordered_prop_train))\n",
    "\n",
    "reordered_prop_prior = data[data[\"eval_set\"]==\"prior\"]['reordered'].mean()\n",
    "\n",
    "print('Proportion of reordered products PRIOR SET: {:.2%}'.format(reordered_prop_prior))\n"
   ]
  },
  {
   "cell_type": "code",
   "execution_count": 21,
   "id": "12a33c16",
   "metadata": {
    "scrolled": false
   },
   "outputs": [
    {
     "data": {
      "image/png": "[encoded data removed]",
      "text/plain": [
       "<Figure size 640x480 with 1 Axes>"
      ]
     },
     "metadata": {},
     "output_type": "display_data"
    }
   ],
   "source": [
    "# Create a bar plot of the proportion of reordered products\n",
    "plt.bar(['Reordered '], [reordered_prop_prior],color=\"blue\",label=\"prior\")\n",
    "plt.bar(['Reordered'], [reordered_prop_train],color=\"orange\",)\n",
    "plt.bar(['Not Reordered '], [1 - reordered_prop_prior],color=\"blue\")\n",
    "plt.bar(['Not Reordered'], [1 - reordered_prop_train],color=\"orange\",label=\"train\")\n",
    "plt.title('Distribution of Target Variable')\n",
    "plt.ylabel('Proportion')\n",
    "plt.legend()\n",
    "plt.show()"
   ]
  },
  {
   "cell_type": "markdown",
   "id": "d983c5dc",
   "metadata": {},
   "source": [
    "-On constate que la distribution est similaire dans Prior et Train Set c'est à dire que les utilisateurs commandent de nouveau les mémes produits qu'ils ont commandés de nouveau dans leurs commandes anciennes.<br/>\n",
    "-Environ 60 % des cas, le produit a été commandé de nouveau."
   ]
  },
  {
   "cell_type": "markdown",
   "id": "cf6e5413",
   "metadata": {},
   "source": [
    "#### b/ Nombre des utilisateurs total, du set train, et du set test:"
   ]
  },
  {
   "cell_type": "code",
   "execution_count": 113,
   "id": "c3255696",
   "metadata": {},
   "outputs": [
    {
     "name": "stdout",
     "output_type": "stream",
     "text": [
      "Nombre total des utilisateurs : 206209\n"
     ]
    }
   ],
   "source": [
    "total=data[\"user_id\"].nunique()\n",
    "print(\"Nombre total des utilisateurs : {}\".format(total))"
   ]
  },
  {
   "cell_type": "code",
   "execution_count": 16,
   "id": "60275dbe",
   "metadata": {},
   "outputs": [
    {
     "name": "stdout",
     "output_type": "stream",
     "text": [
      "Nombre total des utilisateurs du set train : 131209\n"
     ]
    }
   ],
   "source": [
    "train=orders[orders[\"eval_set\"]==\"train\"][\"user_id\"].nunique()\n",
    "print(\"Nombre total des utilisateurs du set train : {}\".format(train))"
   ]
  },
  {
   "cell_type": "code",
   "execution_count": 17,
   "id": "4de35ac9",
   "metadata": {},
   "outputs": [
    {
     "name": "stdout",
     "output_type": "stream",
     "text": [
      "Nombre total des utilisateurs du set test : 75000\n"
     ]
    }
   ],
   "source": [
    "test=orders[orders[\"eval_set\"]==\"test\"][\"user_id\"].nunique()\n",
    "print(\"Nombre total des utilisateurs du set test : {}\".format(test))"
   ]
  },
  {
   "cell_type": "markdown",
   "id": "dbbd5603",
   "metadata": {},
   "source": [
    "<b>=> Donc les utilisateurs sont divisés entre Train et Test<b>"
   ]
  },
  {
   "cell_type": "markdown",
   "id": "8a87c3f5",
   "metadata": {},
   "source": [
    "#### c/ Histogramme du nombre des commandes par heure de la journée:"
   ]
  },
  {
   "cell_type": "code",
   "execution_count": 25,
   "id": "ad25adb8",
   "metadata": {},
   "outputs": [],
   "source": [
    "import matplotlib.pyplot as plt"
   ]
  },
  {
   "cell_type": "code",
   "execution_count": 24,
   "id": "4499335a",
   "metadata": {
    "scrolled": false
   },
   "outputs": [
    {
     "data": {
      "image/png": "[encoded data removed]",
      "text/plain": [
       "<Figure size 640x480 with 1 Axes>"
      ]
     },
     "metadata": {},
     "output_type": "display_data"
    }
   ],
   "source": [
    "plt.hist(orders['order_hour_of_day'], bins=100)\n",
    "plt.xlabel('Hour of the Day')\n",
    "plt.ylabel('Order Count')\n",
    "plt.title('Order Counts by Hour of the Day')\n",
    "plt.show()"
   ]
  },
  {
   "cell_type": "markdown",
   "id": "1e0d033c",
   "metadata": {},
   "source": [
    "-La majorité des commandes sont à partir de 6h du matin jusqu'a minuit <br/>\n",
    "-Une minorité des commandes sont à partir de minuit à 6h"
   ]
  },
  {
   "cell_type": "markdown",
   "id": "f2ed4ce5",
   "metadata": {},
   "source": [
    "#### d/ Répartition des nombres des commandes selon leurs occurrences :"
   ]
  },
  {
   "cell_type": "code",
   "execution_count": 7,
   "id": "f272a800",
   "metadata": {
    "scrolled": false
   },
   "outputs": [
    {
     "data": {
      "image/png": "[encoded data removed]",
      "text/plain": [
       "<Figure size 640x480 with 1 Axes>"
      ]
     },
     "metadata": {},
     "output_type": "display_data"
    }
   ],
   "source": [
    "# Count the occurrences of each order in the dataset\n",
    "order_counts = orders['user_id'].value_counts() #number of orders for each user\n",
    "\n",
    "# Plot a histogram of order occurrence counts\n",
    "plt.hist(order_counts, bins=200, log=False)\n",
    "plt.xlabel('Number of Orders')\n",
    "plt.ylabel('Number of Occurrences')\n",
    "plt.title('Distribution of Order Occurrences')\n",
    "plt.show()"
   ]
  },
  {
   "cell_type": "code",
   "execution_count": 8,
   "id": "e70f8fd2",
   "metadata": {},
   "outputs": [
    {
     "data": {
      "text/plain": [
       "4"
      ]
     },
     "execution_count": 8,
     "metadata": {},
     "output_type": "execute_result"
    }
   ],
   "source": [
    "order_counts.min()"
   ]
  },
  {
   "cell_type": "code",
   "execution_count": 9,
   "id": "fe6bb1ac",
   "metadata": {},
   "outputs": [
    {
     "data": {
      "text/plain": [
       "100"
      ]
     },
     "execution_count": 9,
     "metadata": {},
     "output_type": "execute_result"
    }
   ],
   "source": [
    "order_counts.max()"
   ]
  },
  {
   "cell_type": "markdown",
   "id": "558392a3",
   "metadata": {},
   "source": [
    "-Pour chaque utilisateur, nous avons environ 4 à 100 commandes.<br/>\n",
    "-Il y a très peu d'utilisateurs qui ont passé plus de 60 commandes.<br/>\n",
    "-Le nombre de commandes maximale pour tout utilisateur est de 100."
   ]
  },
  {
   "cell_type": "markdown",
   "id": "d3bc3af1",
   "metadata": {},
   "source": [
    " "
   ]
  },
  {
   "cell_type": "markdown",
   "id": "8234c4df",
   "metadata": {
    "scrolled": false
   },
   "source": [
    "#### e/ Les produits les plus commandés de nouveau:"
   ]
  },
  {
   "cell_type": "code",
   "execution_count": 13,
   "id": "236c2efd",
   "metadata": {
    "scrolled": false
   },
   "outputs": [
    {
     "data": {
      "image/png": "[encoded data removed]",
      "text/plain": [
       "<Figure size 1200x800 with 1 Axes>"
      ]
     },
     "metadata": {},
     "output_type": "display_data"
    }
   ],
   "source": [
    "import seaborn as sns\n",
    "\n",
    "# Create a DataFrame with the count of each product and the number of times it was reordered\n",
    "product_count = data.groupby('product_id')['reordered'].agg(['count', 'sum']) \n",
    "                                                    #count:count of the number of times each product appears in the dataset\n",
    "                                                    #sum:the sum of how many times each product was reordered\n",
    "\n",
    "product_count.columns = ['total_orders', 'total_reorders'] #  product_count a dataframe with 3 columns:\"product_id\" ,\n",
    "product_count.reset_index(inplace=True)                    # \"total_orders\" and \"total_reorders\" \n",
    "\n",
    "# Merge the product name with the product count DataFrame\n",
    "product_count = pd.merge(product_count, products[['product_id', 'product_name']], on='product_id')\n",
    "                                          # product_count now is a dataframe with 4 columns:\"product_id\",\n",
    "                                          # \"total_orders\" ,\"total_reorders\" and \"product_name\"\n",
    "# Sort the DataFrame by the total number of orders\n",
    "product_count = product_count.sort_values('total_reorders', ascending=False)\n",
    "\n",
    "# Get the top 10 most frequently ordered products\n",
    "top_10_products = product_count.head(10)\n",
    "\n",
    "# Create a bar plot of the top 10 products\n",
    "plt.figure(figsize=(12,8))\n",
    "sns.barplot(x='total_reorders', y='product_name', data=top_10_products, color='b')\n",
    "plt.xlabel('Number of Reorders')\n",
    "plt.ylabel('Product Name')\n",
    "plt.title('Top 10 Most Frequently Reordered Products')\n",
    "plt.show()\n"
   ]
  },
  {
   "cell_type": "code",
   "execution_count": 3,
   "id": "9dc0ca0e",
   "metadata": {},
   "outputs": [
    {
     "data": {
      "text/plain": [
       "49688"
      ]
     },
     "execution_count": 3,
     "metadata": {},
     "output_type": "execute_result"
    }
   ],
   "source": [
    "products[\"product_name\"].nunique()"
   ]
  },
  {
   "cell_type": "markdown",
   "id": "a83c36a5",
   "metadata": {},
   "source": [
    "-Il y a au total 49688 produits. <br/>\n",
    "-On constate que la plupart des produits commandés sont des aliments biologiques ; des fruits frais.<br/>\n",
    "-Les bananes sont le produitd le plus recommandé.<br/>\n",
    "-Les 10 produits les plus fréquemment commandés sont de nature biologique."
   ]
  },
  {
   "cell_type": "markdown",
   "id": "36332cfa",
   "metadata": {},
   "source": [
    "#### f/ Les produits les moins commandés de nouveau:"
   ]
  },
  {
   "cell_type": "code",
   "execution_count": 14,
   "id": "32c9e59d",
   "metadata": {
    "scrolled": false
   },
   "outputs": [
    {
     "data": {
      "image/png": "[encoded data removed]",
      "text/plain": [
       "<Figure size 1200x800 with 1 Axes>"
      ]
     },
     "metadata": {},
     "output_type": "display_data"
    }
   ],
   "source": [
    "# The less 10 frequently reordered products\n",
    "buttom_10_products = product_count[product_count[\"total_reorders\"]!=0].tail(10)\n",
    "\n",
    "# Create a bar plot of the less 10 reordered products\n",
    "plt.figure(figsize=(12,8))\n",
    "sns.barplot(x='total_reorders', y='product_name', data=buttom_10_products, color='b')\n",
    "plt.xlabel('Number of Reorders')\n",
    "plt.ylabel('Product Name')\n",
    "plt.title('10 less Reordered Products')\n",
    "plt.show()"
   ]
  },
  {
   "cell_type": "markdown",
   "id": "8d988008",
   "metadata": {},
   "source": [
    "On constate que les produits de hair care, skin care, kitchen supplies sont les moins commandés de nouveau."
   ]
  },
  {
   "cell_type": "markdown",
   "id": "02cd265c",
   "metadata": {},
   "source": [
    "#### g/ Des produits qui n'ont jamais été recommandés:"
   ]
  },
  {
   "cell_type": "code",
   "execution_count": 36,
   "id": "185d9853",
   "metadata": {},
   "outputs": [
    {
     "name": "stdout",
     "output_type": "stream",
     "text": [
      "Parmi 49688 produits 4082 produits ne sont pas recommandés\n",
      "Produits qui ne sont jamais recommandés:\n",
      " 2092                          Neti Mist Sinus Spray\n",
      "20579                    Purple MarshMallow Bunnies\n",
      "19748               Organic Fingerling Potatoes Bag\n",
      "22008                               Fancy Pimientos\n",
      "33871    Fruit & Cream Instant Oatmeal Variety Pack\n",
      "                            ...                    \n",
      "45968                    12 Inch Taper Candle White\n",
      "37378                  Burts Thick Cut Potato Chips\n",
      "15331             Full Size Candy Bars Variety Pack\n",
      "15328         Deep Woods Insect Repellent VIII, Dry\n",
      "38651               Dinner Soft Country Style Rolls\n",
      "Name: product_name, Length: 4082, dtype: object \n"
     ]
    }
   ],
   "source": [
    "#Products that were never reordered :\n",
    "buttom_10_products=product_count[product_count[\"total_reorders\"]==0][\"product_name\"]\n",
    "print(\"Parmi 49688 produits {} produits ne sont jamias recommandés\".format(len(buttom_10_products)))\n",
    "print(\"------------------------------------------------------------ \")\n",
    "print(\"Produits qui ne sont jamais recommandés:\\n {} \".format(buttom_10_products))"
   ]
  },
  {
   "cell_type": "markdown",
   "id": "66a6fec4",
   "metadata": {},
   "source": [
    "#### h/  Les  allées des produits les plus commandées de nouveau :"
   ]
  },
  {
   "cell_type": "code",
   "execution_count": 37,
   "id": "8deb70fe",
   "metadata": {
    "scrolled": false
   },
   "outputs": [
    {
     "data": {
      "image/png": "[encoded data removed]",
      "text/plain": [
       "<Figure size 1200x800 with 1 Axes>"
      ]
     },
     "metadata": {},
     "output_type": "display_data"
    }
   ],
   "source": [
    "# Create a DataFrame with the count of each aisle and the number of times it was reordered\n",
    "aisle_count =data.groupby('aisle_id')['reordered'].agg(['count', 'sum'])                                         \n",
    "\n",
    "aisle_count.columns = ['total_orders', 'total_reorders']\n",
    "#aisle_count.reset_index(inplace=True)                    \n",
    "\n",
    "# Merge the aisle name with the aisle count DataFrame\n",
    "aisle_count = pd.merge(aisle_count, aisles[['aisle_id', 'aisle']], on='aisle_id')\n",
    "                                         \n",
    "# Sort the DataFrame by the total number of reorders\n",
    "aisle_count = aisle_count.sort_values('total_reorders', ascending=False)\n",
    "\n",
    "# Get the top 10 most frequently reordered aisles\n",
    "top_5_aisles = aisle_count.head(5)\n",
    "\n",
    "# Create a bar plot of the top 10 aisles\n",
    "plt.figure(figsize=(12,8))\n",
    "sns.barplot(x='aisle', y='total_reorders', data=top_5_aisles, color='b')\n",
    "plt.xlabel('Aisle ')\n",
    "plt.ylabel('Number of Reorders')\n",
    "plt.title('Top 5 Most Frequently Reordered Aisles')\n",
    "plt.show()"
   ]
  },
  {
   "cell_type": "code",
   "execution_count": 38,
   "id": "c85ccf68",
   "metadata": {},
   "outputs": [
    {
     "data": {
      "text/plain": [
       "134"
      ]
     },
     "execution_count": 38,
     "metadata": {},
     "output_type": "execute_result"
    }
   ],
   "source": [
    "aisles[\"aisle\"].nunique()"
   ]
  },
  {
   "cell_type": "markdown",
   "id": "708127ac",
   "metadata": {},
   "source": [
    "-On a au total 134 allées différentes. <br/>\n",
    "-On remarque que la plupart des produits commandés de nouveau sont dans les rayons des fruits frais et des légumes frais.<br/>\n",
    "-D'autres allées fréquemment commandés de nouveau : les yaourts, les légumes emballés et les laits."
   ]
  },
  {
   "cell_type": "markdown",
   "id": "b45778e1",
   "metadata": {},
   "source": [
    "#### i/ Les départements des produits les plus recommandées :"
   ]
  },
  {
   "cell_type": "code",
   "execution_count": 40,
   "id": "72538bdd",
   "metadata": {
    "scrolled": false
   },
   "outputs": [
    {
     "data": {
      "image/png": "[encoded data removed]",
      "text/plain": [
       "<Figure size 1200x800 with 1 Axes>"
      ]
     },
     "metadata": {},
     "output_type": "display_data"
    }
   ],
   "source": [
    "# Create a DataFrame with the count of each dep and the number of times it was reordered frpm\n",
    "dep_count =data.groupby('department_id')['reordered'].agg(['count', 'sum']) \n",
    "                                                   \n",
    "\n",
    "dep_count.columns = ['total_orders', 'total_reorders']\n",
    "#dep_count.reset_index(inplace=True)                    \"\n",
    "\n",
    "# Merge the dep with the dep count DataFrame\n",
    "dep_count = pd.merge(dep_count, departments[['department_id', 'department']], on='department_id')\n",
    "                                         \n",
    "# Sort the DataFrame by the total number of orders\n",
    "dep_count = dep_count.sort_values('total_reorders', ascending=False)\n",
    "\n",
    "# Get the top 10 most frequently ordered products dep\n",
    "top_10_departments = dep_count.head(10)\n",
    "\n",
    "# Create a bar plot of the top 10 dep\n",
    "plt.figure(figsize=(12,8))\n",
    "sns.barplot(x='department', y='total_reorders', data=top_10_departments, color='b')\n",
    "plt.xlabel('Department ')\n",
    "plt.ylabel('Number of Reorders')\n",
    "plt.title('Top 10 Most Frequently Reordered Product Departments')\n",
    "plt.show()"
   ]
  },
  {
   "cell_type": "code",
   "execution_count": 41,
   "id": "dd6a0c59",
   "metadata": {},
   "outputs": [
    {
     "data": {
      "text/plain": [
       "21"
      ]
     },
     "execution_count": 41,
     "metadata": {},
     "output_type": "execute_result"
    }
   ],
   "source": [
    "departments[\"department\"].nunique()"
   ]
  },
  {
   "cell_type": "markdown",
   "id": "c707e330",
   "metadata": {},
   "source": [
    "-Au totale on a 21 departments. <br/>\n",
    "-Comme le montre l'analyse des départements, la plupart des produits commandés de nouveau proviennent du département des légumes frais,fruits, herbes,... ,et du département des œufs laitiers contenant du yaourt, du lait, des œufs, du fromage,... <br/>"
   ]
  },
  {
   "cell_type": "markdown",
   "id": "25afe675",
   "metadata": {},
   "source": [
    "#### j/ Répartition des commandes selon les jours entre deux commandes successives :"
   ]
  },
  {
   "cell_type": "code",
   "execution_count": 15,
   "id": "8381eff2",
   "metadata": {},
   "outputs": [
    {
     "data": {
      "image/png": "[encoded data removed]",
      "text/plain": [
       "<Figure size 640x480 with 1 Axes>"
      ]
     },
     "metadata": {},
     "output_type": "display_data"
    }
   ],
   "source": [
    "# Histogram of order counts by days_since_prior_order\n",
    "plt.hist(data[data[\"reordered\"]==1]['days_since_prior_order'], bins=100)\n",
    "plt.xlabel('Days since prior order')\n",
    "plt.ylabel('Order Count')\n",
    "\n",
    "plt.show()"
   ]
  },
  {
   "cell_type": "markdown",
   "id": "874d5ff1",
   "metadata": {},
   "source": [
    "-La plupart des clients repassent leurs commandes aprés une semaines(jour 7) ou un mois (jour 30) <br/>\n",
    "-Une minorité des utilisateurs passent plusieurs commandes pendant le jour 0 (meme jour que leur commande précédente) "
   ]
  },
  {
   "cell_type": "markdown",
   "id": "4aa541ec",
   "metadata": {},
   "source": [
    "## 4/ Entraînement du modèle :"
   ]
  },
  {
   "cell_type": "markdown",
   "id": "efa3735e",
   "metadata": {},
   "source": [
    "Les données sont divisée en trois parties: Train ,Test et Prior.<br/>\n",
    "-La partie Prior va étre utilisée pour l'entrainement du modèle. <br/>\n",
    "-La partie Train va étre utilisée pour le test du modèle. <br/>\n",
    "-Et puisque on n'a pas les résultats du variable cible (reordered) pour la partie Test , on va l'utiliser pour la prédiction des nouvelles valeurs.\n"
   ]
  },
  {
   "cell_type": "code",
   "execution_count": 12,
   "id": "f33358d9",
   "metadata": {},
   "outputs": [],
   "source": [
    "from sklearn.neural_network import MLPClassifier\n",
    "from sklearn.metrics import accuracy_score\n",
    "from sklearn.metrics import f1_score"
   ]
  },
  {
   "cell_type": "markdown",
   "id": "b7490c93",
   "metadata": {},
   "source": [
    "On va ajouter une nouvelle colonne aux features pour aider notre modèle et avoir des meilleurs résultats.<br/>\n",
    "La colonne ajoutée est le nombre de fois un produit est commandé de nouveau par chaque utilisateur."
   ]
  },
  {
   "cell_type": "code",
   "execution_count": 13,
   "id": "f5c9deb6",
   "metadata": {},
   "outputs": [
    {
     "data": {
      "text/html": [
       "<div>\n",
       "<style scoped>\n",
       "    .dataframe tbody tr th:only-of-type {\n",
       "        vertical-align: middle;\n",
       "    }\n",
       "\n",
       "    .dataframe tbody tr th {\n",
       "        vertical-align: top;\n",
       "    }\n",
       "\n",
       "    .dataframe thead th {\n",
       "        text-align: right;\n",
       "    }\n",
       "</style>\n",
       "<table border=\"1\" class=\"dataframe\">\n",
       "  <thead>\n",
       "    <tr style=\"text-align: right;\">\n",
       "      <th></th>\n",
       "      <th>user_id</th>\n",
       "      <th>product_id</th>\n",
       "      <th>total_orders</th>\n",
       "    </tr>\n",
       "  </thead>\n",
       "  <tbody>\n",
       "    <tr>\n",
       "      <th>0</th>\n",
       "      <td>1</td>\n",
       "      <td>196</td>\n",
       "      <td>10</td>\n",
       "    </tr>\n",
       "    <tr>\n",
       "      <th>1</th>\n",
       "      <td>1</td>\n",
       "      <td>10258</td>\n",
       "      <td>9</td>\n",
       "    </tr>\n",
       "    <tr>\n",
       "      <th>2</th>\n",
       "      <td>1</td>\n",
       "      <td>10326</td>\n",
       "      <td>0</td>\n",
       "    </tr>\n",
       "    <tr>\n",
       "      <th>3</th>\n",
       "      <td>1</td>\n",
       "      <td>12427</td>\n",
       "      <td>9</td>\n",
       "    </tr>\n",
       "    <tr>\n",
       "      <th>4</th>\n",
       "      <td>1</td>\n",
       "      <td>13032</td>\n",
       "      <td>3</td>\n",
       "    </tr>\n",
       "    <tr>\n",
       "      <th>...</th>\n",
       "      <td>...</td>\n",
       "      <td>...</td>\n",
       "      <td>...</td>\n",
       "    </tr>\n",
       "    <tr>\n",
       "      <th>13863741</th>\n",
       "      <td>206209</td>\n",
       "      <td>43961</td>\n",
       "      <td>2</td>\n",
       "    </tr>\n",
       "    <tr>\n",
       "      <th>13863742</th>\n",
       "      <td>206209</td>\n",
       "      <td>44325</td>\n",
       "      <td>0</td>\n",
       "    </tr>\n",
       "    <tr>\n",
       "      <th>13863743</th>\n",
       "      <td>206209</td>\n",
       "      <td>48370</td>\n",
       "      <td>0</td>\n",
       "    </tr>\n",
       "    <tr>\n",
       "      <th>13863744</th>\n",
       "      <td>206209</td>\n",
       "      <td>48697</td>\n",
       "      <td>0</td>\n",
       "    </tr>\n",
       "    <tr>\n",
       "      <th>13863745</th>\n",
       "      <td>206209</td>\n",
       "      <td>48742</td>\n",
       "      <td>1</td>\n",
       "    </tr>\n",
       "  </tbody>\n",
       "</table>\n",
       "<p>13863746 rows × 3 columns</p>\n",
       "</div>"
      ],
      "text/plain": [
       "          user_id  product_id  total_orders\n",
       "0               1         196            10\n",
       "1               1       10258             9\n",
       "2               1       10326             0\n",
       "3               1       12427             9\n",
       "4               1       13032             3\n",
       "...           ...         ...           ...\n",
       "13863741   206209       43961             2\n",
       "13863742   206209       44325             0\n",
       "13863743   206209       48370             0\n",
       "13863744   206209       48697             0\n",
       "13863745   206209       48742             1\n",
       "\n",
       "[13863746 rows x 3 columns]"
      ]
     },
     "execution_count": 13,
     "metadata": {},
     "output_type": "execute_result"
    }
   ],
   "source": [
    "#Calculate the total number of reorders of each product for each user: \n",
    "total_orders_of_product=data.groupby(['user_id', 'product_id'])['reordered'].sum().reset_index().rename(columns={'reordered': 'total_orders'})\n",
    "#total_orders_of_product.reset_index \n",
    "\n",
    "total_orders_of_product"
   ]
  },
  {
   "cell_type": "code",
   "execution_count": 14,
   "id": "305e9970",
   "metadata": {},
   "outputs": [],
   "source": [
    "#merge the new column with our DataFrame \"data\":\n",
    "new_data=pd.merge(data, total_orders_of_product, on=['user_id', 'product_id'], how='left')"
   ]
  },
  {
   "cell_type": "code",
   "execution_count": 68,
   "id": "50764b73",
   "metadata": {},
   "outputs": [],
   "source": [
    "#new_data[(new_data[\"user_id\"]==25247 ) & (new_data[\"product_id\"]==24852)]"
   ]
  },
  {
   "cell_type": "code",
   "execution_count": 15,
   "id": "d51a49b6",
   "metadata": {},
   "outputs": [],
   "source": [
    "X_train=new_data[new_data[\"eval_set\"]==\"prior\"].drop(['order_id','reordered','aisle_id','department_id',\"eval_set\",\"aisle\",\"department\",\"product_name\"], axis=1)"
   ]
  },
  {
   "cell_type": "code",
   "execution_count": 16,
   "id": "35d6ad5a",
   "metadata": {},
   "outputs": [],
   "source": [
    "y_train=new_data[new_data[\"eval_set\"]==\"prior\"][\"reordered\"]"
   ]
  },
  {
   "cell_type": "code",
   "execution_count": 17,
   "id": "39f13909",
   "metadata": {},
   "outputs": [],
   "source": [
    "X_test=new_data[new_data[\"eval_set\"]==\"train\"].drop(['order_id','reordered','aisle_id','department_id',\"eval_set\",\"aisle\",\"department\",\"product_name\"], axis=1)\n"
   ]
  },
  {
   "cell_type": "code",
   "execution_count": 18,
   "id": "d773ae24",
   "metadata": {},
   "outputs": [],
   "source": [
    "y_test=new_data[new_data[\"eval_set\"]==\"train\"][\"reordered\"]"
   ]
  },
  {
   "cell_type": "code",
   "execution_count": 19,
   "id": "85ce79bb",
   "metadata": {},
   "outputs": [
    {
     "data": {
      "text/plain": [
       "MLPClassifier(hidden_layer_sizes=(10, 5), max_iter=700, random_state=42)"
      ]
     },
     "execution_count": 19,
     "metadata": {},
     "output_type": "execute_result"
    }
   ],
   "source": [
    "#max_iter=700\n",
    "clf = MLPClassifier(hidden_layer_sizes=(10, 5), max_iter=700, random_state=42)\n",
    "clf.fit(X_train, y_train)"
   ]
  },
  {
   "cell_type": "code",
   "execution_count": 20,
   "id": "450a4f75",
   "metadata": {},
   "outputs": [],
   "source": [
    "y_pred1 = clf.predict(X_test)"
   ]
  },
  {
   "cell_type": "markdown",
   "id": "7385b30a",
   "metadata": {},
   "source": [
    "## 5/Evaluation du modéle"
   ]
  },
  {
   "cell_type": "code",
   "execution_count": 21,
   "id": "8389ea9d",
   "metadata": {},
   "outputs": [
    {
     "data": {
      "text/plain": [
       "0.9813125218020579"
      ]
     },
     "execution_count": 21,
     "metadata": {},
     "output_type": "execute_result"
    }
   ],
   "source": [
    "accuracy_score(y_test, y_pred1)"
   ]
  },
  {
   "cell_type": "code",
   "execution_count": 22,
   "id": "f86fa9c6",
   "metadata": {},
   "outputs": [
    {
     "data": {
      "text/plain": [
       "0.984143014990443"
      ]
     },
     "execution_count": 22,
     "metadata": {},
     "output_type": "execute_result"
    }
   ],
   "source": [
    "f1 = f1_score(y_test, y_pred1)\n",
    "f1"
   ]
  },
  {
   "cell_type": "code",
   "execution_count": 23,
   "id": "4f73e4e2",
   "metadata": {},
   "outputs": [],
   "source": [
    "from sklearn import metrics "
   ]
  },
  {
   "cell_type": "code",
   "execution_count": 26,
   "id": "711a00f6",
   "metadata": {
    "scrolled": false
   },
   "outputs": [
    {
     "data": {
      "image/png": "[encoded data removed]",
      "text/plain": [
       "<Figure size 640x480 with 2 Axes>"
      ]
     },
     "metadata": {},
     "output_type": "display_data"
    }
   ],
   "source": [
    "confusion_matrix=metrics.confusion_matrix(y_test,y_pred1)\n",
    "cm_display = metrics.ConfusionMatrixDisplay(confusion_matrix = confusion_matrix, display_labels = [False, True]) \n",
    "cm_display.plot()\n",
    "plt.show()"
   ]
  },
  {
   "cell_type": "code",
   "execution_count": 27,
   "id": "4a70ed2e",
   "metadata": {},
   "outputs": [
    {
     "name": "stdout",
     "output_type": "stream",
     "text": [
      "Nombre itérations  : 19\n"
     ]
    }
   ],
   "source": [
    "print(\"Nombre itérations  : {}\".format(clf.n_iter_))"
   ]
  },
  {
   "cell_type": "code",
   "execution_count": 28,
   "id": "36e18ba0",
   "metadata": {},
   "outputs": [
    {
     "data": {
      "image/png": "[encoded data removed]",
      "text/plain": [
       "<Figure size 640x480 with 1 Axes>"
      ]
     },
     "metadata": {},
     "output_type": "display_data"
    }
   ],
   "source": [
    "plt.plot(clf.loss_curve_)\n",
    "plt.title(\"Loss Curve\", fontsize=10)\n",
    "plt.xlabel('Iterations')\n",
    "plt.ylabel('Cost')\n",
    "plt.show()"
   ]
  },
  {
   "cell_type": "markdown",
   "id": "a82afa41",
   "metadata": {},
   "source": [
    "## 6/ Prédiction de nouvelles valeurs"
   ]
  },
  {
   "cell_type": "code",
   "execution_count": 20,
   "id": "707186c4",
   "metadata": {},
   "outputs": [],
   "source": [
    "#Extracting the test orders to predict their target value \"reordered\"\n",
    "o=orders[orders[\"eval_set\"]==\"test\"]"
   ]
  },
  {
   "cell_type": "code",
   "execution_count": 105,
   "id": "d63e6dfb",
   "metadata": {},
   "outputs": [],
   "source": [
    "#Creating the newTestDataFrame\n",
    "#drop the unwanted columns\n",
    "#d=new_data.drop(['order_id','reordered',\"eval_set\",'aisle_id','department_id',\"aisle\",\"department\",\"product_name\"], axis=1)"
   ]
  },
  {
   "cell_type": "code",
   "execution_count": null,
   "id": "071e8a65",
   "metadata": {},
   "outputs": [],
   "source": [
    "#Merging data\n",
    "#d=pd.merge( d, o,on=['product_id','user_id'], how='left').sort_values(by=['user_id']).reset_index(drop=True)\n",
    "e=pd.merge( new_data, o,on=['user_id','order_id'], how='left').sort_values(by=['user_id']).reset_index(drop=True)"
   ]
  },
  {
   "cell_type": "code",
   "execution_count": null,
   "id": "ce6568c1",
   "metadata": {},
   "outputs": [],
   "source": [
    "e=e[[\"product_id\",\"user_id\",\"add_to_cart_order\" , \"order_number\",\"order_dow\" ,\"order_hour_of_day\" ,\"days_since_prior_order\" ,\"total_orders\"]]"
   ]
  },
  {
   "cell_type": "code",
   "execution_count": 200,
   "id": "73abaee6",
   "metadata": {},
   "outputs": [],
   "source": [
    "#Predicting the target values of the test orders\n",
    "y_pred_new = clf.predict(e)"
   ]
  }
 ],
 "metadata": {
  "kernelspec": {
   "display_name": "Python 3 (ipykernel)",
   "language": "python",
   "name": "python3"
  },
  "language_info": {
   "codemirror_mode": {
    "name": "ipython",
    "version": 3
   },
   "file_extension": ".py",
   "mimetype": "text/x-python",
   "name": "python",
   "nbconvert_exporter": "python",
   "pygments_lexer": "ipython3",
   "version": "3.9.7"
  }
 },
 "nbformat": 4,
 "nbformat_minor": 5
}
